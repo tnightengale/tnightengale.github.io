{
 "cells": [
  {
   "cell_type": "markdown",
   "metadata": {},
   "source": [
    "# Softmax Implementation"
   ]
  },
  {
   "cell_type": "markdown",
   "metadata": {},
   "source": [
    "A softmax function is a generalization of the logistic funtion $\\sigma(z) = \\frac{1}{1 + e^{-z}}$ and is given as:"
   ]
  },
  {
   "cell_type": "markdown",
   "metadata": {},
   "source": [
    "$$\n",
    "\\sigma(\\mathbf{z})_j = \\frac{e^z_j}{\\sum_{k=1"
   ]
  },
  {
   "cell_type": "markdown",
   "metadata": {},
   "source": [
    "$$\\sum_{n=1}^{\\infty}$$"
   ]
  },
  {
   "cell_type": "code",
   "execution_count": 2,
   "metadata": {},
   "outputs": [
    {
     "name": "stdout",
     "output_type": "stream",
     "text": [
      "[20.09, 7.39, 20.09, 54.6, 2.72, 7.39, 20.09]\n",
      "132\n",
      "[0.152, 0.056, 0.152, 0.413, 0.021, 0.056, 0.152]\n"
     ]
    }
   ],
   "source": [
    "import math\n",
    "z = [3,2,3,4,1,2,3]\n",
    "z_exp = [math.exp(i) for i in z]\n",
    "print([round(i,2) for i in z_exp])\n",
    "sum_z_exp = sum(z_exp)\n",
    "print(round(sum_z_exp))\n",
    "softmax = [round(i/sum_z_exp,3) for i in z_exp]\n",
    "print(softmax)"
   ]
  },
  {
   "cell_type": "code",
   "execution_count": null,
   "metadata": {
    "collapsed": true
   },
   "outputs": [],
   "source": []
  }
 ],
 "metadata": {
  "kernelspec": {
   "display_name": "Python 3",
   "language": "python",
   "name": "python3"
  },
  "language_info": {
   "codemirror_mode": {
    "name": "ipython",
    "version": 3
   },
   "file_extension": ".py",
   "mimetype": "text/x-python",
   "name": "python",
   "nbconvert_exporter": "python",
   "pygments_lexer": "ipython3",
   "version": "3.6.2"
  }
 },
 "nbformat": 4,
 "nbformat_minor": 2
}
